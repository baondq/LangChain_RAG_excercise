{
 "cells": [
  {
   "cell_type": "markdown",
   "id": "a108af04",
   "metadata": {},
   "source": [
    "This is a starter notebook for the project, you'll have to import the libraries you'll need, you can find a list of the ones available in this workspace in the requirements.txt file in this workspace. "
   ]
  },
  {
   "cell_type": "code",
   "execution_count": 1,
   "id": "1565e3dd",
   "metadata": {},
   "outputs": [],
   "source": [
    "import os\n",
    "\n",
    "os.environ[\"OPENAI_API_KEY\"] = \"your-key-here\"\n",
    "os.environ[\"OPENAI_API_BASE\"] = \"https://openai.vocareum.com/v1\"\n",
    "\n",
    "from langchain.chat_models import ChatOpenAI"
   ]
  },
  {
   "cell_type": "markdown",
   "id": "dd89fdd0",
   "metadata": {},
   "source": [
    "# Generate Real Estate Listings"
   ]
  },
  {
   "cell_type": "code",
   "execution_count": 2,
   "id": "9979142e",
   "metadata": {},
   "outputs": [],
   "source": [
    "query = \"\"\"Generate real estate listing, including the following information:\n",
    "    Neighborhood: name of neighborhood\n",
    "    Price: house price in US dollar\n",
    "    Bedrooms: number of bedrooms\n",
    "    Bathrooms: number of bathrooms\n",
    "    House Size: house area in sqft\n",
    "    Description: description of the house\n",
    "    Neighborhood Description: description of the neighborhood\n",
    "\"\"\"\n",
    "llm = ChatOpenAI(model_name=\"gpt-3.5-turbo\", temperature=1.0)"
   ]
  },
  {
   "cell_type": "code",
   "execution_count": 3,
   "id": "b69160a0",
   "metadata": {},
   "outputs": [],
   "source": [
    "real_estate_listings = []\n",
    "\n",
    "for i in range(10):\n",
    "    res = llm.predict(query).strip()\n",
    "    real_estate_listings.append(res)"
   ]
  },
  {
   "cell_type": "code",
   "execution_count": 4,
   "id": "55a915c0",
   "metadata": {},
   "outputs": [
    {
     "name": "stdout",
     "output_type": "stream",
     "text": [
      "### example number 1 ###\n",
      "Neighborhood: Sunset Heights\n",
      "Price: $500,000\n",
      "Bedrooms: 3\n",
      "Bathrooms: 2\n",
      "House Size: 1,800 sqft\n",
      "Description: Beautifully renovated home in the sought after Sunset Heights neighborhood. This charming 3 bedroom, 2 bathroom house features a spacious open floor plan, updated kitchen with stainless steel appliances, hardwood floors throughout, and a cozy backyard perfect for entertaining. Don't miss out on this gem!\n",
      "\n",
      "Neighborhood Description: Sunset Heights is a vibrant and family-friendly neighborhood known for its tree-lined streets, local parks, and great schools. Conveniently located near top-rated restaurants, shops, and easy access to major highways for quick commute to downtown. This is the ideal place to call home for those looking for a mix of urban living and suburban charm.\n",
      "### example number 2 ###\n",
      "Neighborhood: Highlands Ranch, CO\n",
      "Price: $550,000\n",
      "Bedrooms: 4\n",
      "Bathrooms: 3\n",
      "House Size: 2,500 sqft\n",
      "Description: This stunning 4 bedroom, 3 bathroom home in Highlands Ranch is sure to impress. Featuring a spacious kitchen with granite countertops, a cozy fireplace in the living room, and a beautifully landscaped backyard with a patio perfect for entertaining. The master suite boasts a walk-in closet and en-suite bathroom with a soaking tub. Don't miss out on this amazing opportunity to own a home in this sought-after neighborhood.\n",
      "Neighborhood Description: Highlands Ranch is known for its top-rated schools, beautiful parks, and convenient access to shopping and dining. With miles of trails for hiking and biking, as well as community events and amenities, this neighborhood is perfect for families and outdoor enthusiasts alike.\n",
      "### example number 3 ###\n",
      "Neighborhood: Pacific Heights\n",
      "Price: $2,500,000\n",
      "Bedrooms: 4\n",
      "Bathrooms: 3.5\n",
      "House Size: 2,800 sqft\n",
      "Description: Stunning 3-story Victorian home in the prestigious Pacific Heights neighborhood. This elegant residence features a modern kitchen with high-end appliances, spacious living areas, and a master suite with panoramic views of the city. The backyard oasis is perfect for entertaining, complete with a patio and lush landscaping. \n",
      "Neighborhood Description: Pacific Heights is known for its grand architecture, tree-lined streets, and sweeping views of the San Francisco Bay. This upscale neighborhood is home to boutique shops, fine dining restaurants, and top-rated schools. Enjoy easy access to nearby parks, museums, and entertainment venues. Experience the best of city living in Pacific Heights.\n",
      "### example number 4 ###\n",
      "Neighborhood: Chelsea\n",
      "\n",
      "Price: $1,200,000\n",
      "\n",
      "Bedrooms: 3\n",
      "\n",
      "Bathrooms: 2.5\n",
      "\n",
      "House Size: 2,000 sqft\n",
      "\n",
      "Description: Beautiful three-bedroom, two-and-a-half bathroom home located in the desirable neighborhood of Chelsea. This newly renovated house features a spacious living room, modern kitchen with granite countertops, hardwood floors throughout, and a lovely backyard perfect for entertaining. The master bedroom boasts an ensuite bathroom and walk-in closet. Close proximity to shops, restaurants, and public transportation make this an ideal home for any buyer.\n",
      "\n",
      "Neighborhood Description: Chelsea is known for its charming tree-lined streets, historic brownstones, and vibrant community atmosphere. With a variety of restaurants, cafes, and boutiques just steps away, residents can enjoy all the perks of city living while still having a peaceful retreat to come home to. Conveniently located near parks, schools, and public transportation, Chelsea offers the perfect blend of urban convenience and suburban tranquility.\n",
      "### example number 5 ###\n",
      "Neighborhood: Brooklyn Heights\n",
      "Price: $1,200,000\n",
      "Bedrooms: 3\n",
      "Bathrooms: 2\n",
      "House Size: 1,800 sqft\n",
      "Description: Beautifully renovated historic brownstone with modern finishes, featuring a spacious open concept living area, gourmet kitchen with stainless steel appliances, hardwood floors throughout, and a private backyard oasis. The master suite includes a stunning en-suite bathroom with a soaking tub and separate shower. Additional features include a cozy fireplace, central air conditioning, and plenty of storage space. Located in the heart of Brooklyn Heights, just steps away from the waterfront promenade and bustling commercial area.\n",
      "Neighborhood Description: Brooklyn Heights is a charming and picturesque neighborhood known for its tree-lined streets, historic brownstones, and stunning views of the Manhattan skyline. The area is filled with boutique shops, trendy restaurants, and vibrant nightlife spots, offering a perfect combination of quiet residential living and urban convenience. With easy access to public transportation and a strong sense of community, Brooklyn Heights is a highly desirable location for both families and young professionals.\n",
      "### example number 6 ###\n",
      "Neighborhood: Capitol Hill\n",
      "Price: $650,000\n",
      "Bedrooms: 3\n",
      "Bathrooms: 2\n",
      "House Size: 1,800 sqft\n",
      "Description: Stunning home in the heart of Capitol Hill! This beautifully renovated 3 bedroom, 2 bathroom house features an open concept floor plan, hardwood floors, and a gourmet kitchen with stainless steel appliances. Relax in the spacious master suite with a luxurious en-suite bathroom. Enjoy outdoor entertaining on the private backyard patio. Conveniently located near restaurants, shops, and public transportation.\n",
      "\n",
      "Neighborhood Description: Capitol Hill is a vibrant neighborhood known for its historic charm, trendy restaurants, and lively atmosphere. Residents enjoy easy access to parks, museums, and cultural attractions. This sought-after neighborhood offers a mix of urban convenience and residential tranquility. Don't miss the opportunity to make this house your new home!\n",
      "### example number 7 ###\n",
      "Neighborhood: Pacific Heights\n",
      "Price: $3,500,000\n",
      "Bedrooms: 4\n",
      "Bathrooms: 3\n",
      "House Size: 2,500 sqft\n",
      "\n",
      "Description: This stunning 4-bedroom, 3-bathroom home in the prestigious neighborhood of Pacific Heights features high ceilings, hardwood floors, and a modern kitchen with top-of-the-line appliances. The spacious living room opens up to a beautiful outdoor patio, perfect for entertaining guests. The master suite includes a luxurious bathroom with a soaking tub and walk-in closet. A two-car garage and ample storage space complete this exquisite home.\n",
      "\n",
      "Neighborhood Description: Pacific Heights is known for its upscale properties, panoramic views of the San Francisco Bay, and proximity to popular shopping and dining destinations. Residents enjoy easy access to parks, schools, and public transportation options. This desirable neighborhood is perfect for those looking for a luxurious yet convenient living experience in the heart of San Francisco.\n",
      "### example number 8 ###\n",
      "Neighborhood: Beverly Hills\n",
      "Price: $5,000,000\n",
      "Bedrooms: 5\n",
      "Bathrooms: 6\n",
      "House Size: 5,000 sqft\n",
      "Description: Stunning luxury home in the heart of Beverly Hills. This modern masterpiece features high-end finishes, an open floor plan, and floor-to-ceiling windows offering panoramic views of the city. The gourmet kitchen is a chef's dream with top-of-the-line appliances and a spacious island. The outdoor space is perfect for entertaining with a pool, spa, and outdoor kitchen. The master suite boasts a fireplace, dual walk-in closets, and a spa-like ensuite bathroom. Additional features include a home theater, wine cellar, and automated smart home system.\n",
      "Neighborhood Description: Beverly Hills is known for its upscale shops, restaurants, and celebrity sightings. The neighborhood offers a high level of privacy and security, making it a popular choice for affluent buyers. Beverly Hills is also home to top-rated schools, beautiful parks, and easy access to major freeways and the beach.\n",
      "### example number 9 ###\n",
      "Neighborhood: Central Park West\n",
      "Price: $2,500,000\n",
      "Bedrooms: 3\n",
      "Bathrooms: 2.5\n",
      "House Size: 2,000 sqft\n",
      "\n",
      "Description: Stunning luxury apartment located on Central Park West. This spacious 3-bedroom, 2.5-bathroom home features high ceilings, hardwood floors, and floor-to-ceiling windows offering breathtaking views of Central Park. The modern kitchen is equipped with top-of-the-line appliances and a breakfast bar. The master suite includes a walk-in closet and a luxurious en-suite bathroom with a soaking tub and separate shower. Additional features include a formal dining room, in-unit laundry, and private balcony.\n",
      "\n",
      "Neighborhood Description: Central Park West is a prestigious neighborhood known for its historic architecture, beautiful tree-lined streets, and proximity to Central Park. Residents enjoy easy access to world-class restaurants, high-end shopping, and cultural institutions such as the Museum of Natural History and Lincoln Center. With convenient access to public transportation, this neighborhood offers the perfect blend of luxury living and urban convenience.\n",
      "### example number 10 ###\n",
      "Neighborhood: The Grove\n",
      "Price: $500,000\n",
      "Bedrooms: 3\n",
      "Bathrooms: 2.5\n",
      "House Size: 2,000 sqft\n",
      "Description: This charming 3 bedroom, 2.5 bathroom home in The Grove neighborhood is the perfect mix of modern updates and original charm. The open concept living area features hardwood floors, a cozy fireplace, and plenty of natural light. The kitchen boasts stainless steel appliances, granite countertops, and a breakfast bar. The master suite includes a walk-in closet and ensuite bathroom with dual sinks and a soaking tub. Outside, the fenced backyard offers a deck for entertaining and a storage shed. Don't miss out on this gem!\n",
      "\n",
      "Neighborhood Description: The Grove is a family-friendly neighborhood known for its tree-lined streets, parks, and top-rated schools. Residents enjoy easy access to shopping, dining, and entertainment options, as well as quick commutes to downtown and major highways. With a strong sense of community and plenty of amenities, The Grove is a highly sought after place to call home.\n"
     ]
    }
   ],
   "source": [
    "for i in range(10):\n",
    "    print(f\"### example number {i+1} ###\")\n",
    "    print(real_estate_listings[i])"
   ]
  },
  {
   "cell_type": "code",
   "execution_count": 5,
   "id": "34d95ee1",
   "metadata": {},
   "outputs": [],
   "source": [
    "with open(\"Listings.txt\", \"w\") as f:\n",
    "    for i in range(10):\n",
    "        f.write(f\"### example number {i+1} ###\\n\")\n",
    "        f.write(real_estate_listings[i]+\"\\n\")"
   ]
  },
  {
   "cell_type": "code",
   "execution_count": 6,
   "id": "c51291dd",
   "metadata": {},
   "outputs": [
    {
     "name": "stdout",
     "output_type": "stream",
     "text": [
      "[Document(page_content=\"Neighborhood: Sunset Heights\\nPrice: $500,000\\nBedrooms: 3\\nBathrooms: 2\\nHouse Size: 1,800 sqft\\nDescription: Beautifully renovated home in the sought after Sunset Heights neighborhood. This charming 3 bedroom, 2 bathroom house features a spacious open floor plan, updated kitchen with stainless steel appliances, hardwood floors throughout, and a cozy backyard perfect for entertaining. Don't miss out on this gem!\\n\\nNeighborhood Description: Sunset Heights is a vibrant and family-friendly neighborhood known for its tree-lined streets, local parks, and great schools. Conveniently located near top-rated restaurants, shops, and easy access to major highways for quick commute to downtown. This is the ideal place to call home for those looking for a mix of urban living and suburban charm.\", metadata={'row': 0}), Document(page_content=\"Neighborhood: Highlands Ranch, CO\\nPrice: $550,000\\nBedrooms: 4\\nBathrooms: 3\\nHouse Size: 2,500 sqft\\nDescription: This stunning 4 bedroom, 3 bathroom home in Highlands Ranch is sure to impress. Featuring a spacious kitchen with granite countertops, a cozy fireplace in the living room, and a beautifully landscaped backyard with a patio perfect for entertaining. The master suite boasts a walk-in closet and en-suite bathroom with a soaking tub. Don't miss out on this amazing opportunity to own a home in this sought-after neighborhood.\\nNeighborhood Description: Highlands Ranch is known for its top-rated schools, beautiful parks, and convenient access to shopping and dining. With miles of trails for hiking and biking, as well as community events and amenities, this neighborhood is perfect for families and outdoor enthusiasts alike.\", metadata={'row': 1}), Document(page_content='Neighborhood: Pacific Heights\\nPrice: $2,500,000\\nBedrooms: 4\\nBathrooms: 3.5\\nHouse Size: 2,800 sqft\\nDescription: Stunning 3-story Victorian home in the prestigious Pacific Heights neighborhood. This elegant residence features a modern kitchen with high-end appliances, spacious living areas, and a master suite with panoramic views of the city. The backyard oasis is perfect for entertaining, complete with a patio and lush landscaping. \\nNeighborhood Description: Pacific Heights is known for its grand architecture, tree-lined streets, and sweeping views of the San Francisco Bay. This upscale neighborhood is home to boutique shops, fine dining restaurants, and top-rated schools. Enjoy easy access to nearby parks, museums, and entertainment venues. Experience the best of city living in Pacific Heights.', metadata={'row': 2}), Document(page_content='Neighborhood: Chelsea\\n\\nPrice: $1,200,000\\n\\nBedrooms: 3\\n\\nBathrooms: 2.5\\n\\nHouse Size: 2,000 sqft\\n\\nDescription: Beautiful three-bedroom, two-and-a-half bathroom home located in the desirable neighborhood of Chelsea. This newly renovated house features a spacious living room, modern kitchen with granite countertops, hardwood floors throughout, and a lovely backyard perfect for entertaining. The master bedroom boasts an ensuite bathroom and walk-in closet. Close proximity to shops, restaurants, and public transportation make this an ideal home for any buyer.\\n\\nNeighborhood Description: Chelsea is known for its charming tree-lined streets, historic brownstones, and vibrant community atmosphere. With a variety of restaurants, cafes, and boutiques just steps away, residents can enjoy all the perks of city living while still having a peaceful retreat to come home to. Conveniently located near parks, schools, and public transportation, Chelsea offers the perfect blend of urban convenience and suburban tranquility.', metadata={'row': 3}), Document(page_content='Neighborhood: Brooklyn Heights\\nPrice: $1,200,000\\nBedrooms: 3\\nBathrooms: 2\\nHouse Size: 1,800 sqft\\nDescription: Beautifully renovated historic brownstone with modern finishes, featuring a spacious open concept living area, gourmet kitchen with stainless steel appliances, hardwood floors throughout, and a private backyard oasis. The master suite includes a stunning en-suite bathroom with a soaking tub and separate shower. Additional features include a cozy fireplace, central air conditioning, and plenty of storage space. Located in the heart of Brooklyn Heights, just steps away from the waterfront promenade and bustling commercial area.\\nNeighborhood Description: Brooklyn Heights is a charming and picturesque neighborhood known for its tree-lined streets, historic brownstones, and stunning views of the Manhattan skyline. The area is filled with boutique shops, trendy restaurants, and vibrant nightlife spots, offering a perfect combination of quiet residential living and urban convenience. With easy access to public transportation and a strong sense of community, Brooklyn Heights is a highly desirable location for both families and young professionals.', metadata={'row': 4}), Document(page_content=\"Neighborhood: Capitol Hill\\nPrice: $650,000\\nBedrooms: 3\\nBathrooms: 2\\nHouse Size: 1,800 sqft\\nDescription: Stunning home in the heart of Capitol Hill! This beautifully renovated 3 bedroom, 2 bathroom house features an open concept floor plan, hardwood floors, and a gourmet kitchen with stainless steel appliances. Relax in the spacious master suite with a luxurious en-suite bathroom. Enjoy outdoor entertaining on the private backyard patio. Conveniently located near restaurants, shops, and public transportation.\\n\\nNeighborhood Description: Capitol Hill is a vibrant neighborhood known for its historic charm, trendy restaurants, and lively atmosphere. Residents enjoy easy access to parks, museums, and cultural attractions. This sought-after neighborhood offers a mix of urban convenience and residential tranquility. Don't miss the opportunity to make this house your new home!\", metadata={'row': 5}), Document(page_content='Neighborhood: Pacific Heights\\nPrice: $3,500,000\\nBedrooms: 4\\nBathrooms: 3\\nHouse Size: 2,500 sqft\\n\\nDescription: This stunning 4-bedroom, 3-bathroom home in the prestigious neighborhood of Pacific Heights features high ceilings, hardwood floors, and a modern kitchen with top-of-the-line appliances. The spacious living room opens up to a beautiful outdoor patio, perfect for entertaining guests. The master suite includes a luxurious bathroom with a soaking tub and walk-in closet. A two-car garage and ample storage space complete this exquisite home.\\n\\nNeighborhood Description: Pacific Heights is known for its upscale properties, panoramic views of the San Francisco Bay, and proximity to popular shopping and dining destinations. Residents enjoy easy access to parks, schools, and public transportation options. This desirable neighborhood is perfect for those looking for a luxurious yet convenient living experience in the heart of San Francisco.', metadata={'row': 6}), Document(page_content=\"Neighborhood: Beverly Hills\\nPrice: $5,000,000\\nBedrooms: 5\\nBathrooms: 6\\nHouse Size: 5,000 sqft\\nDescription: Stunning luxury home in the heart of Beverly Hills. This modern masterpiece features high-end finishes, an open floor plan, and floor-to-ceiling windows offering panoramic views of the city. The gourmet kitchen is a chef's dream with top-of-the-line appliances and a spacious island. The outdoor space is perfect for entertaining with a pool, spa, and outdoor kitchen. The master suite boasts a fireplace, dual walk-in closets, and a spa-like ensuite bathroom. Additional features include a home theater, wine cellar, and automated smart home system.\\nNeighborhood Description: Beverly Hills is known for its upscale shops, restaurants, and celebrity sightings. The neighborhood offers a high level of privacy and security, making it a popular choice for affluent buyers. Beverly Hills is also home to top-rated schools, beautiful parks, and easy access to major freeways and the beach.\", metadata={'row': 7}), Document(page_content='Neighborhood: Central Park West\\nPrice: $2,500,000\\nBedrooms: 3\\nBathrooms: 2.5\\nHouse Size: 2,000 sqft\\n\\nDescription: Stunning luxury apartment located on Central Park West. This spacious 3-bedroom, 2.5-bathroom home features high ceilings, hardwood floors, and floor-to-ceiling windows offering breathtaking views of Central Park. The modern kitchen is equipped with top-of-the-line appliances and a breakfast bar. The master suite includes a walk-in closet and a luxurious en-suite bathroom with a soaking tub and separate shower. Additional features include a formal dining room, in-unit laundry, and private balcony.\\n\\nNeighborhood Description: Central Park West is a prestigious neighborhood known for its historic architecture, beautiful tree-lined streets, and proximity to Central Park. Residents enjoy easy access to world-class restaurants, high-end shopping, and cultural institutions such as the Museum of Natural History and Lincoln Center. With convenient access to public transportation, this neighborhood offers the perfect blend of luxury living and urban convenience.', metadata={'row': 8}), Document(page_content=\"Neighborhood: The Grove\\nPrice: $500,000\\nBedrooms: 3\\nBathrooms: 2.5\\nHouse Size: 2,000 sqft\\nDescription: This charming 3 bedroom, 2.5 bathroom home in The Grove neighborhood is the perfect mix of modern updates and original charm. The open concept living area features hardwood floors, a cozy fireplace, and plenty of natural light. The kitchen boasts stainless steel appliances, granite countertops, and a breakfast bar. The master suite includes a walk-in closet and ensuite bathroom with dual sinks and a soaking tub. Outside, the fenced backyard offers a deck for entertaining and a storage shed. Don't miss out on this gem!\\n\\nNeighborhood Description: The Grove is a family-friendly neighborhood known for its tree-lined streets, parks, and top-rated schools. Residents enjoy easy access to shopping, dining, and entertainment options, as well as quick commutes to downtown and major highways. With a strong sense of community and plenty of amenities, The Grove is a highly sought after place to call home.\", metadata={'row': 9})]\n"
     ]
    }
   ],
   "source": [
    "from langchain.docstore.document import Document\n",
    "\n",
    "docs = []\n",
    "for i in range(len(real_estate_listings)):\n",
    "    docs.append(Document(page_content=real_estate_listings[i], metadata={\"row\":i}))\n",
    "\n",
    "print(docs)"
   ]
  },
  {
   "cell_type": "markdown",
   "id": "b2c3444f",
   "metadata": {},
   "source": [
    "# Storing Listings in a Vector Database"
   ]
  },
  {
   "cell_type": "code",
   "execution_count": 7,
   "id": "b9bc0c8f",
   "metadata": {},
   "outputs": [
    {
     "name": "stdout",
     "output_type": "stream",
     "text": [
      "[Document(page_content=\"Neighborhood: Sunset Heights\\nPrice: $500,000\\nBedrooms: 3\\nBathrooms: 2\\nHouse Size: 1,800 sqft\\nDescription: Beautifully renovated home in the sought after Sunset Heights neighborhood. This charming 3 bedroom, 2 bathroom house features a spacious open floor plan, updated kitchen with stainless steel appliances, hardwood floors throughout, and a cozy backyard perfect for entertaining. Don't miss out on this gem!\\nNeighborhood Description: Sunset Heights is a vibrant and family-friendly neighborhood known for its tree-lined streets, local parks, and great schools. Conveniently located near top-rated restaurants, shops, and easy access to major highways for quick commute to downtown. This is the ideal place to call home for those looking for a mix of urban living and suburban charm.\", metadata={'row': 0}), Document(page_content=\"Neighborhood: Highlands Ranch, CO\\nPrice: $550,000\\nBedrooms: 4\\nBathrooms: 3\\nHouse Size: 2,500 sqft\\nDescription: This stunning 4 bedroom, 3 bathroom home in Highlands Ranch is sure to impress. Featuring a spacious kitchen with granite countertops, a cozy fireplace in the living room, and a beautifully landscaped backyard with a patio perfect for entertaining. The master suite boasts a walk-in closet and en-suite bathroom with a soaking tub. Don't miss out on this amazing opportunity to own a home in this sought-after neighborhood.\\nNeighborhood Description: Highlands Ranch is known for its top-rated schools, beautiful parks, and convenient access to shopping and dining. With miles of trails for hiking and biking, as well as community events and amenities, this neighborhood is perfect for families and outdoor enthusiasts alike.\", metadata={'row': 1}), Document(page_content='Neighborhood: Pacific Heights\\nPrice: $2,500,000\\nBedrooms: 4\\nBathrooms: 3.5\\nHouse Size: 2,800 sqft\\nDescription: Stunning 3-story Victorian home in the prestigious Pacific Heights neighborhood. This elegant residence features a modern kitchen with high-end appliances, spacious living areas, and a master suite with panoramic views of the city. The backyard oasis is perfect for entertaining, complete with a patio and lush landscaping. \\nNeighborhood Description: Pacific Heights is known for its grand architecture, tree-lined streets, and sweeping views of the San Francisco Bay. This upscale neighborhood is home to boutique shops, fine dining restaurants, and top-rated schools. Enjoy easy access to nearby parks, museums, and entertainment venues. Experience the best of city living in Pacific Heights.', metadata={'row': 2}), Document(page_content='Neighborhood: Chelsea\\nPrice: $1,200,000\\nBedrooms: 3\\nBathrooms: 2.5\\nHouse Size: 2,000 sqft\\nDescription: Beautiful three-bedroom, two-and-a-half bathroom home located in the desirable neighborhood of Chelsea. This newly renovated house features a spacious living room, modern kitchen with granite countertops, hardwood floors throughout, and a lovely backyard perfect for entertaining. The master bedroom boasts an ensuite bathroom and walk-in closet. Close proximity to shops, restaurants, and public transportation make this an ideal home for any buyer.', metadata={'row': 3}), Document(page_content='Neighborhood Description: Chelsea is known for its charming tree-lined streets, historic brownstones, and vibrant community atmosphere. With a variety of restaurants, cafes, and boutiques just steps away, residents can enjoy all the perks of city living while still having a peaceful retreat to come home to. Conveniently located near parks, schools, and public transportation, Chelsea offers the perfect blend of urban convenience and suburban tranquility.', metadata={'row': 3}), Document(page_content='Neighborhood: Brooklyn Heights\\nPrice: $1,200,000\\nBedrooms: 3\\nBathrooms: 2\\nHouse Size: 1,800 sqft\\nDescription: Beautifully renovated historic brownstone with modern finishes, featuring a spacious open concept living area, gourmet kitchen with stainless steel appliances, hardwood floors throughout, and a private backyard oasis. The master suite includes a stunning en-suite bathroom with a soaking tub and separate shower. Additional features include a cozy fireplace, central air conditioning, and plenty of storage space. Located in the heart of Brooklyn Heights, just steps away from the waterfront promenade and bustling commercial area.', metadata={'row': 4}), Document(page_content='Neighborhood Description: Brooklyn Heights is a charming and picturesque neighborhood known for its tree-lined streets, historic brownstones, and stunning views of the Manhattan skyline. The area is filled with boutique shops, trendy restaurants, and vibrant nightlife spots, offering a perfect combination of quiet residential living and urban convenience. With easy access to public transportation and a strong sense of community, Brooklyn Heights is a highly desirable location for both families and young professionals.', metadata={'row': 4}), Document(page_content=\"Neighborhood: Capitol Hill\\nPrice: $650,000\\nBedrooms: 3\\nBathrooms: 2\\nHouse Size: 1,800 sqft\\nDescription: Stunning home in the heart of Capitol Hill! This beautifully renovated 3 bedroom, 2 bathroom house features an open concept floor plan, hardwood floors, and a gourmet kitchen with stainless steel appliances. Relax in the spacious master suite with a luxurious en-suite bathroom. Enjoy outdoor entertaining on the private backyard patio. Conveniently located near restaurants, shops, and public transportation.\\nNeighborhood Description: Capitol Hill is a vibrant neighborhood known for its historic charm, trendy restaurants, and lively atmosphere. Residents enjoy easy access to parks, museums, and cultural attractions. This sought-after neighborhood offers a mix of urban convenience and residential tranquility. Don't miss the opportunity to make this house your new home!\", metadata={'row': 5}), Document(page_content='Neighborhood: Pacific Heights\\nPrice: $3,500,000\\nBedrooms: 4\\nBathrooms: 3\\nHouse Size: 2,500 sqft\\nDescription: This stunning 4-bedroom, 3-bathroom home in the prestigious neighborhood of Pacific Heights features high ceilings, hardwood floors, and a modern kitchen with top-of-the-line appliances. The spacious living room opens up to a beautiful outdoor patio, perfect for entertaining guests. The master suite includes a luxurious bathroom with a soaking tub and walk-in closet. A two-car garage and ample storage space complete this exquisite home.\\nNeighborhood Description: Pacific Heights is known for its upscale properties, panoramic views of the San Francisco Bay, and proximity to popular shopping and dining destinations. Residents enjoy easy access to parks, schools, and public transportation options. This desirable neighborhood is perfect for those looking for a luxurious yet convenient living experience in the heart of San Francisco.', metadata={'row': 6}), Document(page_content=\"Neighborhood: Beverly Hills\\nPrice: $5,000,000\\nBedrooms: 5\\nBathrooms: 6\\nHouse Size: 5,000 sqft\\nDescription: Stunning luxury home in the heart of Beverly Hills. This modern masterpiece features high-end finishes, an open floor plan, and floor-to-ceiling windows offering panoramic views of the city. The gourmet kitchen is a chef's dream with top-of-the-line appliances and a spacious island. The outdoor space is perfect for entertaining with a pool, spa, and outdoor kitchen. The master suite boasts a fireplace, dual walk-in closets, and a spa-like ensuite bathroom. Additional features include a home theater, wine cellar, and automated smart home system.\\nNeighborhood Description: Beverly Hills is known for its upscale shops, restaurants, and celebrity sightings. The neighborhood offers a high level of privacy and security, making it a popular choice for affluent buyers. Beverly Hills is also home to top-rated schools, beautiful parks, and easy access to major freeways and the beach.\", metadata={'row': 7}), Document(page_content='Neighborhood: Central Park West\\nPrice: $2,500,000\\nBedrooms: 3\\nBathrooms: 2.5\\nHouse Size: 2,000 sqft\\nDescription: Stunning luxury apartment located on Central Park West. This spacious 3-bedroom, 2.5-bathroom home features high ceilings, hardwood floors, and floor-to-ceiling windows offering breathtaking views of Central Park. The modern kitchen is equipped with top-of-the-line appliances and a breakfast bar. The master suite includes a walk-in closet and a luxurious en-suite bathroom with a soaking tub and separate shower. Additional features include a formal dining room, in-unit laundry, and private balcony.', metadata={'row': 8}), Document(page_content='Neighborhood Description: Central Park West is a prestigious neighborhood known for its historic architecture, beautiful tree-lined streets, and proximity to Central Park. Residents enjoy easy access to world-class restaurants, high-end shopping, and cultural institutions such as the Museum of Natural History and Lincoln Center. With convenient access to public transportation, this neighborhood offers the perfect blend of luxury living and urban convenience.', metadata={'row': 8}), Document(page_content=\"Neighborhood: The Grove\\nPrice: $500,000\\nBedrooms: 3\\nBathrooms: 2.5\\nHouse Size: 2,000 sqft\\nDescription: This charming 3 bedroom, 2.5 bathroom home in The Grove neighborhood is the perfect mix of modern updates and original charm. The open concept living area features hardwood floors, a cozy fireplace, and plenty of natural light. The kitchen boasts stainless steel appliances, granite countertops, and a breakfast bar. The master suite includes a walk-in closet and ensuite bathroom with dual sinks and a soaking tub. Outside, the fenced backyard offers a deck for entertaining and a storage shed. Don't miss out on this gem!\", metadata={'row': 9}), Document(page_content='Neighborhood Description: The Grove is a family-friendly neighborhood known for its tree-lined streets, parks, and top-rated schools. Residents enjoy easy access to shopping, dining, and entertainment options, as well as quick commutes to downtown and major highways. With a strong sense of community and plenty of amenities, The Grove is a highly sought after place to call home.', metadata={'row': 9})]\n"
     ]
    }
   ],
   "source": [
    "from langchain.text_splitter import CharacterTextSplitter\n",
    "\n",
    "splitter = CharacterTextSplitter(\n",
    "    separator=\"\\n\",\n",
    "    chunk_size=1000,\n",
    "    chunk_overlap=0,\n",
    ")\n",
    "splitted_docs = splitter.split_documents(docs)\n",
    "print(splitted_docs)"
   ]
  },
  {
   "cell_type": "code",
   "execution_count": 8,
   "id": "d3b23319",
   "metadata": {},
   "outputs": [],
   "source": [
    "from langchain.embeddings.openai import OpenAIEmbeddings\n",
    "from langchain.vectorstores import Chroma\n",
    "\n",
    "embeddings = OpenAIEmbeddings()\n",
    "db = Chroma.from_documents(splitted_docs, embeddings)"
   ]
  },
  {
   "cell_type": "markdown",
   "id": "efd2c1a2",
   "metadata": {},
   "source": [
    "# Building the User Preference Interface"
   ]
  },
  {
   "cell_type": "code",
   "execution_count": 9,
   "id": "faeb1a60",
   "metadata": {},
   "outputs": [],
   "source": [
    "questions = [   \n",
    "                \"How big do you want your house to be?\",\n",
    "                \"What are 3 most important things for you in choosing this property?\", \n",
    "                \"Which amenities would you like?\", \n",
    "                \"Which transportation options are important to you?\",\n",
    "                \"How urban do you want your neighborhood to be?\",   \n",
    "            ]\n",
    "answers = [\n",
    "    \"A comfortable three-bedroom house with a spacious kitchen and a cozy living room.\",\n",
    "    \"A quiet neighborhood, good local schools, and convenient shopping options.\",\n",
    "    \"A backyard for gardening, a two-car garage, and a modern, energy-efficient heating system.\",\n",
    "    \"Easy access to a reliable bus line, proximity to a major highway, and bike-friendly roads.\",\n",
    "    \"A balance between suburban tranquility and access to urban amenities like restaurants and theaters.\"\n",
    "]"
   ]
  },
  {
   "cell_type": "code",
   "execution_count": 10,
   "id": "53037285",
   "metadata": {},
   "outputs": [
    {
     "name": "stdout",
     "output_type": "stream",
     "text": [
      "[AIMessage(content='How big do you want your house to be?'), HumanMessage(content='A comfortable three-bedroom house with a spacious kitchen and a cozy living room.'), AIMessage(content='What are 3 most important things for you in choosing this property?'), HumanMessage(content='A quiet neighborhood, good local schools, and convenient shopping options.'), AIMessage(content='Which amenities would you like?'), HumanMessage(content='A backyard for gardening, a two-car garage, and a modern, energy-efficient heating system.'), AIMessage(content='Which transportation options are important to you?'), HumanMessage(content='Easy access to a reliable bus line, proximity to a major highway, and bike-friendly roads.'), AIMessage(content='How urban do you want your neighborhood to be?'), HumanMessage(content='A balance between suburban tranquility and access to urban amenities like restaurants and theaters.')]\n"
     ]
    }
   ],
   "source": [
    "from langchain.memory import ChatMessageHistory\n",
    "\n",
    "history = ChatMessageHistory()\n",
    "for i in range(len(questions)):\n",
    "    history.add_ai_message(questions[i])\n",
    "    history.add_user_message(answers[i])\n",
    "print(history.messages)"
   ]
  },
  {
   "cell_type": "code",
   "execution_count": 11,
   "id": "166bf68e",
   "metadata": {},
   "outputs": [
    {
     "name": "stdout",
     "output_type": "stream",
     "text": [
      "The AI asks the human how big they want their house to be, and the human responds that they want a comfortable three-bedroom house with a spacious kitchen and a cozy living room. The AI then asks the human about the three most important things in choosing the property, to which the human replies a quiet neighborhood, good local schools, and convenient shopping options. The AI then inquires about the amenities the human would like, and the human mentions a backyard for gardening, a two-car garage, and a modern, energy-efficient heating system. When asked about transportation options, the human mentions easy access to a reliable bus line, proximity to a major highway, and bike-friendly roads. The AI then asks how urban the human wants their neighborhood to be, and the human desires a balance between suburban tranquility and access to urban amenities like restaurants and theaters.\n"
     ]
    }
   ],
   "source": [
    "# this memory only store summary of chat history\n",
    "from langchain.memory import ConversationSummaryMemory\n",
    "\n",
    "summary_memory = ConversationSummaryMemory.from_messages(\n",
    "    llm=ChatOpenAI(model_name=\"gpt-3.5-turbo\", temperature=0),\n",
    "    chat_memory=history,\n",
    "    memory_key=\"summary\",\n",
    "    return_messages=True\n",
    ")\n",
    "print(summary_memory.buffer)"
   ]
  },
  {
   "cell_type": "code",
   "execution_count": 12,
   "id": "d5ad1e37",
   "metadata": {},
   "outputs": [
    {
     "data": {
      "text/plain": [
       "{'summary': [SystemMessage(content='The AI asks the human how big they want their house to be, and the human responds that they want a comfortable three-bedroom house with a spacious kitchen and a cozy living room. The AI then asks the human about the three most important things in choosing the property, to which the human replies a quiet neighborhood, good local schools, and convenient shopping options. The AI then inquires about the amenities the human would like, and the human mentions a backyard for gardening, a two-car garage, and a modern, energy-efficient heating system. When asked about transportation options, the human mentions easy access to a reliable bus line, proximity to a major highway, and bike-friendly roads. The AI then asks how urban the human wants their neighborhood to be, and the human desires a balance between suburban tranquility and access to urban amenities like restaurants and theaters.')]}"
      ]
     },
     "execution_count": 12,
     "metadata": {},
     "output_type": "execute_result"
    }
   ],
   "source": [
    "summary_memory.load_memory_variables({})"
   ]
  },
  {
   "cell_type": "markdown",
   "id": "3cce163c",
   "metadata": {},
   "source": [
    "# Searching Based on Preferences"
   ]
  },
  {
   "cell_type": "markdown",
   "id": "b621c6ce",
   "metadata": {},
   "source": [
    "Retrieval logics:\n",
    "\n",
    "- Iterate to each preference, search top 3 listings and add 1 matching score to these 3 listings\n",
    "\n",
    "- Sort and extract top 3 listings with highest score"
   ]
  },
  {
   "cell_type": "code",
   "execution_count": 13,
   "id": "126a3f3b",
   "metadata": {},
   "outputs": [
    {
     "name": "stdout",
     "output_type": "stream",
     "text": [
      "[1, 1, 0, 4, 4, 0, 0, 0, 0, 5]\n"
     ]
    }
   ],
   "source": [
    "score_list = [0 for _ in range(10)]\n",
    "\n",
    "for answer in answers:\n",
    "    similar_listings = db.similarity_search(answer, k=3)\n",
    "    for i in range(3):\n",
    "        index = similar_listings[i].metadata[\"row\"]\n",
    "        score_list[index] += 1\n",
    "\n",
    "print(score_list)"
   ]
  },
  {
   "cell_type": "code",
   "execution_count": 14,
   "id": "8547045d",
   "metadata": {},
   "outputs": [
    {
     "name": "stdout",
     "output_type": "stream",
     "text": [
      "[9, 3, 4]\n"
     ]
    }
   ],
   "source": [
    "sorted_indices = sorted(range(len(score_list)), key=lambda i: score_list[i], reverse=True)[:3]\n",
    "print(sorted_indices)"
   ]
  },
  {
   "cell_type": "code",
   "execution_count": 19,
   "id": "38fe7cc4",
   "metadata": {},
   "outputs": [
    {
     "name": "stdout",
     "output_type": "stream",
     "text": [
      "### 1-th most matching listing ###\n",
      "Neighborhood: The Grove\n",
      "Price: $500,000\n",
      "Bedrooms: 3\n",
      "Bathrooms: 2.5\n",
      "House Size: 2,000 sqft\n",
      "Description: This charming 3 bedroom, 2.5 bathroom home in The Grove neighborhood is the perfect mix of modern updates and original charm. The open concept living area features hardwood floors, a cozy fireplace, and plenty of natural light. The kitchen boasts stainless steel appliances, granite countertops, and a breakfast bar. The master suite includes a walk-in closet and ensuite bathroom with dual sinks and a soaking tub. Outside, the fenced backyard offers a deck for entertaining and a storage shed. Don't miss out on this gem!\n",
      "\n",
      "Neighborhood Description: The Grove is a family-friendly neighborhood known for its tree-lined streets, parks, and top-rated schools. Residents enjoy easy access to shopping, dining, and entertainment options, as well as quick commutes to downtown and major highways. With a strong sense of community and plenty of amenities, The Grove is a highly sought after place to call home.\n",
      "### 2-th most matching listing ###\n",
      "Neighborhood: Chelsea\n",
      "\n",
      "Price: $1,200,000\n",
      "\n",
      "Bedrooms: 3\n",
      "\n",
      "Bathrooms: 2.5\n",
      "\n",
      "House Size: 2,000 sqft\n",
      "\n",
      "Description: Beautiful three-bedroom, two-and-a-half bathroom home located in the desirable neighborhood of Chelsea. This newly renovated house features a spacious living room, modern kitchen with granite countertops, hardwood floors throughout, and a lovely backyard perfect for entertaining. The master bedroom boasts an ensuite bathroom and walk-in closet. Close proximity to shops, restaurants, and public transportation make this an ideal home for any buyer.\n",
      "\n",
      "Neighborhood Description: Chelsea is known for its charming tree-lined streets, historic brownstones, and vibrant community atmosphere. With a variety of restaurants, cafes, and boutiques just steps away, residents can enjoy all the perks of city living while still having a peaceful retreat to come home to. Conveniently located near parks, schools, and public transportation, Chelsea offers the perfect blend of urban convenience and suburban tranquility.\n",
      "### 3-th most matching listing ###\n",
      "Neighborhood: Brooklyn Heights\n",
      "Price: $1,200,000\n",
      "Bedrooms: 3\n",
      "Bathrooms: 2\n",
      "House Size: 1,800 sqft\n",
      "Description: Beautifully renovated historic brownstone with modern finishes, featuring a spacious open concept living area, gourmet kitchen with stainless steel appliances, hardwood floors throughout, and a private backyard oasis. The master suite includes a stunning en-suite bathroom with a soaking tub and separate shower. Additional features include a cozy fireplace, central air conditioning, and plenty of storage space. Located in the heart of Brooklyn Heights, just steps away from the waterfront promenade and bustling commercial area.\n",
      "Neighborhood Description: Brooklyn Heights is a charming and picturesque neighborhood known for its tree-lined streets, historic brownstones, and stunning views of the Manhattan skyline. The area is filled with boutique shops, trendy restaurants, and vibrant nightlife spots, offering a perfect combination of quiet residential living and urban convenience. With easy access to public transportation and a strong sense of community, Brooklyn Heights is a highly desirable location for both families and young professionals.\n"
     ]
    }
   ],
   "source": [
    "for i in range(len(sorted_indices)):\n",
    "    print(f\"### {i+1}-th most matching listing ###\")\n",
    "    print(docs[sorted_indices[i]].page_content)"
   ]
  },
  {
   "cell_type": "markdown",
   "id": "8c39f0fb",
   "metadata": {},
   "source": [
    "# Personalizing Listing Descriptions"
   ]
  },
  {
   "cell_type": "code",
   "execution_count": 16,
   "id": "be303f1f",
   "metadata": {},
   "outputs": [],
   "source": [
    "query_init = \"\"\"You are given a house's information along with a chat summary between a bot and a buyer. Your job is to re-write the house description which emphasizes aspects of the property that align with what the buyer is looking for. Use correct information from the house information. Do not make up any information\"\"\""
   ]
  },
  {
   "cell_type": "code",
   "execution_count": 17,
   "id": "c853e6ba",
   "metadata": {},
   "outputs": [],
   "source": [
    "from langchain.prompts import PromptTemplate\n",
    "\n",
    "prompt = PromptTemplate(\n",
    "    template=\"{query_init}\\nHouse information:\\n{house_info}\\nChat summary:\\n{chat_summary}\",\n",
    "    input_variables=[\"query_init\", \"house_info\", \"chat_summary\"]\n",
    ")\n",
    "llm = ChatOpenAI(model_name=\"gpt-3.5-turbo\", temperature=0)"
   ]
  },
  {
   "cell_type": "code",
   "execution_count": 18,
   "id": "86b5e4d9",
   "metadata": {},
   "outputs": [
    {
     "name": "stdout",
     "output_type": "stream",
     "text": [
      "###### 1-th CANDIDATE ######\n",
      "=== query ===\n",
      "You are given a house's information along with a chat summary between a bot and a buyer. Your job is to re-write the house description which emphasizes aspects of the property that align with what the buyer is looking for. Do not make up any information\n",
      "House information:\n",
      "Neighborhood: Beverly Hills\n",
      "Price: $5,000,000\n",
      "Bedrooms: 5\n",
      "Bathrooms: 6\n",
      "House Size: 5,000 sqft\n",
      "Description: Stunning luxury home in the heart of Beverly Hills. This modern masterpiece features high-end finishes, an open floor plan, and floor-to-ceiling windows offering panoramic views of the city. The gourmet kitchen is a chef's dream with top-of-the-line appliances and a spacious island. The outdoor space is perfect for entertaining with a pool, spa, and outdoor kitchen. The master suite boasts a fireplace, dual walk-in closets, and a spa-like ensuite bathroom. Additional features include a home theater, wine cellar, and automated smart home system.\n",
      "Neighborhood Description: Beverly Hills is known for its upscale shops, restaurants, and celebrity sightings. The neighborhood offers a high level of privacy and security, making it a popular choice for affluent buyers. Beverly Hills is also home to top-rated schools, beautiful parks, and easy access to major freeways and the beach.\n",
      "Chat summary:\n",
      "The AI asks the human how big they want their house to be, and the human responds that they want a comfortable three-bedroom house with a spacious kitchen and a cozy living room. The AI then asks the human about the three most important things in choosing the property, to which the human replies a quiet neighborhood, good local schools, and convenient shopping options. The AI then inquires about the amenities the human would like, and the human mentions a backyard for gardening, a two-car garage, and a modern, energy-efficient heating system. When asked about transportation options, the human mentions easy access to a reliable bus line, proximity to a major highway, and bike-friendly roads. The AI then asks how urban the human wants their neighborhood to be, and the human desires a balance between suburban tranquility and access to urban amenities like restaurants and theaters.\n",
      "=== output ===\n",
      "This charming Beverly Hills home offers a comfortable living space with three spacious bedrooms and a cozy living room. The gourmet kitchen is perfect for cooking enthusiasts, featuring top-of-the-line appliances and a spacious island for meal prep. The backyard is ideal for gardening, and the outdoor space includes a pool, spa, and outdoor kitchen for entertaining guests. The two-car garage provides ample parking space, and the modern, energy-efficient heating system ensures year-round comfort.\n",
      "\n",
      "Located in a quiet neighborhood in Beverly Hills, this home is surrounded by upscale shops and restaurants, offering a high level of privacy and security. The top-rated schools in the area make it an ideal choice for families, and convenient shopping options are just a short drive away. Easy access to a reliable bus line, proximity to a major highway, and bike-friendly roads make transportation a breeze.\n",
      "\n",
      "This property strikes the perfect balance between suburban tranquility and access to urban amenities, with restaurants and theaters just a short distance away. Don't miss out on this opportunity to own a piece of luxury in the heart of Beverly Hills.\n",
      "###### 2-th CANDIDATE ######\n",
      "=== query ===\n",
      "You are given a house's information along with a chat summary between a bot and a buyer. Your job is to re-write the house description which emphasizes aspects of the property that align with what the buyer is looking for. Do not make up any information\n",
      "House information:\n",
      "Neighborhood: Chelsea\n",
      "Price: $1,200,000\n",
      "Bedrooms: 3\n",
      "Bathrooms: 2.5\n",
      "House Size: 2,000 sqft\n",
      "Description: Beautiful three-bedroom, two-and-a-half bathroom home located in the desirable neighborhood of Chelsea. This newly renovated house features a spacious living room, modern kitchen with granite countertops, hardwood floors throughout, and a lovely backyard perfect for entertaining. The master bedroom boasts an ensuite bathroom and walk-in closet. Close proximity to shops, restaurants, and public transportation make this an ideal home for any buyer.\n",
      "Chat summary:\n",
      "The AI asks the human how big they want their house to be, and the human responds that they want a comfortable three-bedroom house with a spacious kitchen and a cozy living room. The AI then asks the human about the three most important things in choosing the property, to which the human replies a quiet neighborhood, good local schools, and convenient shopping options. The AI then inquires about the amenities the human would like, and the human mentions a backyard for gardening, a two-car garage, and a modern, energy-efficient heating system. When asked about transportation options, the human mentions easy access to a reliable bus line, proximity to a major highway, and bike-friendly roads. The AI then asks how urban the human wants their neighborhood to be, and the human desires a balance between suburban tranquility and access to urban amenities like restaurants and theaters.\n",
      "=== output ===\n",
      "Revised House Description:\n",
      "Welcome to this charming three-bedroom, two-and-a-half bathroom home nestled in the peaceful neighborhood of Chelsea. This cozy house features a spacious kitchen with granite countertops, perfect for preparing delicious meals, and a comfortable living room ideal for relaxing with loved ones. The backyard is a gardener's dream, providing ample space for planting and outdoor entertaining. The master bedroom includes an ensuite bathroom and walk-in closet for added convenience. With a two-car garage and modern, energy-efficient heating system, this home offers both practicality and comfort. Conveniently located near good local schools, shopping options, and a reliable bus line, this property strikes the perfect balance between suburban tranquility and urban amenities. Don't miss out on the opportunity to make this your dream home!\n",
      "###### 3-th CANDIDATE ######\n",
      "=== query ===\n",
      "You are given a house's information along with a chat summary between a bot and a buyer. Your job is to re-write the house description which emphasizes aspects of the property that align with what the buyer is looking for. Do not make up any information\n",
      "House information:\n",
      "Neighborhood Description: Chelsea is known for its charming tree-lined streets, historic brownstones, and vibrant community atmosphere. With a variety of restaurants, cafes, and boutiques just steps away, residents can enjoy all the perks of city living while still having a peaceful retreat to come home to. Conveniently located near parks, schools, and public transportation, Chelsea offers the perfect blend of urban convenience and suburban tranquility.\n",
      "Chat summary:\n",
      "The AI asks the human how big they want their house to be, and the human responds that they want a comfortable three-bedroom house with a spacious kitchen and a cozy living room. The AI then asks the human about the three most important things in choosing the property, to which the human replies a quiet neighborhood, good local schools, and convenient shopping options. The AI then inquires about the amenities the human would like, and the human mentions a backyard for gardening, a two-car garage, and a modern, energy-efficient heating system. When asked about transportation options, the human mentions easy access to a reliable bus line, proximity to a major highway, and bike-friendly roads. The AI then asks how urban the human wants their neighborhood to be, and the human desires a balance between suburban tranquility and access to urban amenities like restaurants and theaters.\n",
      "=== output ===\n",
      "This charming three-bedroom brownstone in Chelsea offers the perfect blend of urban convenience and suburban tranquility. The spacious kitchen is perfect for cooking and entertaining, while the cozy living room provides a comfortable space to relax. \n",
      "\n",
      "Located in a quiet neighborhood with good local schools, residents can enjoy the peaceful retreat of tree-lined streets while still being just steps away from a variety of restaurants, cafes, and boutiques. The backyard is ideal for gardening, and the two-car garage provides ample parking space. \n",
      "\n",
      "For added convenience, the house features a modern, energy-efficient heating system. Easy access to a reliable bus line, proximity to a major highway, and bike-friendly roads make transportation a breeze. \n",
      "\n",
      "Don't miss out on the opportunity to live in a vibrant community with all the perks of city living at your fingertips.\n"
     ]
    }
   ],
   "source": [
    "for i in range(len(sorted_indices)):\n",
    "    print(f\"###### {i+1}-th CANDIDATE ######\")\n",
    "    query = prompt.format(query_init=query_init, house_info=splitted_docs[sorted_indices[i]].page_content, chat_summary=summary_memory.buffer)\n",
    "    print(\"=== query ===\")\n",
    "    print(query)\n",
    "    output = llm.predict(query).strip()\n",
    "    print(\"=== output ===\")\n",
    "    print(output)"
   ]
  }
 ],
 "metadata": {
  "kernelspec": {
   "display_name": "Python 3 (ipykernel)",
   "language": "python",
   "name": "python3"
  },
  "language_info": {
   "codemirror_mode": {
    "name": "ipython",
    "version": 3
   },
   "file_extension": ".py",
   "mimetype": "text/x-python",
   "name": "python",
   "nbconvert_exporter": "python",
   "pygments_lexer": "ipython3",
   "version": "3.10.11"
  }
 },
 "nbformat": 4,
 "nbformat_minor": 5
}
